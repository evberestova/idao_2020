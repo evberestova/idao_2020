{
 "cells": [
  {
   "cell_type": "code",
   "execution_count": 1,
   "metadata": {
    "scrolled": false
   },
   "outputs": [],
   "source": [
    "from collections import Counter, namedtuple\n",
    "from fbprophet import Prophet\n",
    "from tqdm import tqdm_notebook as tqdm\n",
    "from util import (\n",
    "    calculate_score,\n",
    "    feature_to_target,\n",
    "    load_data,\n",
    "    target_to_feature,\n",
    ")\n",
    "\n",
    "import pandas as pd\n",
    "import numpy as np\n",
    "import matplotlib.pylab as plt\n",
    "\n",
    "%matplotlib inline\n",
    "%load_ext autoreload\n",
    "%autoreload 2\n",
    "\n",
    "TRAIN_FILE = './data/train.csv'\n",
    "TEST_FILE = './data/test.csv'\n",
    "RANDOM_STATE = 42"
   ]
  },
  {
   "cell_type": "code",
   "execution_count": 2,
   "metadata": {},
   "outputs": [
    {
     "data": {
      "text/html": [
       "<div>\n",
       "<style scoped>\n",
       "    .dataframe tbody tr th:only-of-type {\n",
       "        vertical-align: middle;\n",
       "    }\n",
       "\n",
       "    .dataframe tbody tr th {\n",
       "        vertical-align: top;\n",
       "    }\n",
       "\n",
       "    .dataframe thead th {\n",
       "        text-align: right;\n",
       "    }\n",
       "</style>\n",
       "<table border=\"1\" class=\"dataframe\">\n",
       "  <thead>\n",
       "    <tr style=\"text-align: right;\">\n",
       "      <th></th>\n",
       "      <th>id</th>\n",
       "      <th>epoch</th>\n",
       "      <th>sat_id</th>\n",
       "      <th>x</th>\n",
       "      <th>y</th>\n",
       "      <th>z</th>\n",
       "      <th>Vx</th>\n",
       "      <th>Vy</th>\n",
       "      <th>Vz</th>\n",
       "      <th>x_sim</th>\n",
       "      <th>y_sim</th>\n",
       "      <th>z_sim</th>\n",
       "      <th>Vx_sim</th>\n",
       "      <th>Vy_sim</th>\n",
       "      <th>Vz_sim</th>\n",
       "    </tr>\n",
       "  </thead>\n",
       "  <tbody>\n",
       "    <tr>\n",
       "      <th>0</th>\n",
       "      <td>0</td>\n",
       "      <td>2014-01-01 00:00:00.000</td>\n",
       "      <td>0</td>\n",
       "      <td>-8855.823863</td>\n",
       "      <td>13117.780146</td>\n",
       "      <td>-20728.353233</td>\n",
       "      <td>-0.908303</td>\n",
       "      <td>-3.808436</td>\n",
       "      <td>-2.022083</td>\n",
       "      <td>-8843.131454</td>\n",
       "      <td>13138.221690</td>\n",
       "      <td>-20741.615306</td>\n",
       "      <td>-0.907527</td>\n",
       "      <td>-3.804930</td>\n",
       "      <td>-2.024133</td>\n",
       "    </tr>\n",
       "    <tr>\n",
       "      <th>1</th>\n",
       "      <td>1</td>\n",
       "      <td>2014-01-01 00:46:43.000</td>\n",
       "      <td>0</td>\n",
       "      <td>-10567.672384</td>\n",
       "      <td>1619.746066</td>\n",
       "      <td>-24451.813271</td>\n",
       "      <td>-0.302590</td>\n",
       "      <td>-4.272617</td>\n",
       "      <td>-0.612796</td>\n",
       "      <td>-10555.500066</td>\n",
       "      <td>1649.289367</td>\n",
       "      <td>-24473.089556</td>\n",
       "      <td>-0.303704</td>\n",
       "      <td>-4.269816</td>\n",
       "      <td>-0.616468</td>\n",
       "    </tr>\n",
       "    <tr>\n",
       "      <th>2</th>\n",
       "      <td>2</td>\n",
       "      <td>2014-01-01 01:33:26.001</td>\n",
       "      <td>0</td>\n",
       "      <td>-10578.684043</td>\n",
       "      <td>-10180.467460</td>\n",
       "      <td>-24238.280949</td>\n",
       "      <td>0.277435</td>\n",
       "      <td>-4.047522</td>\n",
       "      <td>0.723155</td>\n",
       "      <td>-10571.858472</td>\n",
       "      <td>-10145.939908</td>\n",
       "      <td>-24271.169776</td>\n",
       "      <td>0.274880</td>\n",
       "      <td>-4.046788</td>\n",
       "      <td>0.718768</td>\n",
       "    </tr>\n",
       "    <tr>\n",
       "      <th>3</th>\n",
       "      <td>3</td>\n",
       "      <td>2014-01-01 02:20:09.001</td>\n",
       "      <td>0</td>\n",
       "      <td>-9148.251857</td>\n",
       "      <td>-20651.437460</td>\n",
       "      <td>-20720.381279</td>\n",
       "      <td>0.715600</td>\n",
       "      <td>-3.373762</td>\n",
       "      <td>1.722115</td>\n",
       "      <td>-9149.620794</td>\n",
       "      <td>-20618.200201</td>\n",
       "      <td>-20765.019094</td>\n",
       "      <td>0.712437</td>\n",
       "      <td>-3.375202</td>\n",
       "      <td>1.718306</td>\n",
       "    </tr>\n",
       "    <tr>\n",
       "      <th>4</th>\n",
       "      <td>4</td>\n",
       "      <td>2014-01-01 03:06:52.002</td>\n",
       "      <td>0</td>\n",
       "      <td>-6719.092336</td>\n",
       "      <td>-28929.061629</td>\n",
       "      <td>-14938.907967</td>\n",
       "      <td>0.992507</td>\n",
       "      <td>-2.519732</td>\n",
       "      <td>2.344703</td>\n",
       "      <td>-6729.358857</td>\n",
       "      <td>-28902.271436</td>\n",
       "      <td>-14992.399986</td>\n",
       "      <td>0.989382</td>\n",
       "      <td>-2.522618</td>\n",
       "      <td>2.342237</td>\n",
       "    </tr>\n",
       "  </tbody>\n",
       "</table>\n",
       "</div>"
      ],
      "text/plain": [
       "   id                   epoch  sat_id             x             y  \\\n",
       "0   0 2014-01-01 00:00:00.000       0  -8855.823863  13117.780146   \n",
       "1   1 2014-01-01 00:46:43.000       0 -10567.672384   1619.746066   \n",
       "2   2 2014-01-01 01:33:26.001       0 -10578.684043 -10180.467460   \n",
       "3   3 2014-01-01 02:20:09.001       0  -9148.251857 -20651.437460   \n",
       "4   4 2014-01-01 03:06:52.002       0  -6719.092336 -28929.061629   \n",
       "\n",
       "              z        Vx        Vy        Vz         x_sim         y_sim  \\\n",
       "0 -20728.353233 -0.908303 -3.808436 -2.022083  -8843.131454  13138.221690   \n",
       "1 -24451.813271 -0.302590 -4.272617 -0.612796 -10555.500066   1649.289367   \n",
       "2 -24238.280949  0.277435 -4.047522  0.723155 -10571.858472 -10145.939908   \n",
       "3 -20720.381279  0.715600 -3.373762  1.722115  -9149.620794 -20618.200201   \n",
       "4 -14938.907967  0.992507 -2.519732  2.344703  -6729.358857 -28902.271436   \n",
       "\n",
       "          z_sim    Vx_sim    Vy_sim    Vz_sim  \n",
       "0 -20741.615306 -0.907527 -3.804930 -2.024133  \n",
       "1 -24473.089556 -0.303704 -4.269816 -0.616468  \n",
       "2 -24271.169776  0.274880 -4.046788  0.718768  \n",
       "3 -20765.019094  0.712437 -3.375202  1.718306  \n",
       "4 -14992.399986  0.989382 -2.522618  2.342237  "
      ]
     },
     "execution_count": 2,
     "metadata": {},
     "output_type": "execute_result"
    }
   ],
   "source": [
    "train_df, test_df = load_data(TRAIN_FILE, TEST_FILE, None, None)\n",
    "train_df.head()"
   ]
  },
  {
   "cell_type": "code",
   "execution_count": 3,
   "metadata": {},
   "outputs": [],
   "source": [
    "def get_sat_data(df, sat_id):\n",
    "    return df[df.sat_id == sat_id]\n",
    "\n",
    "def prepare_sat_data_for_prophet(sat_df, value_to_train_on, test_fraction=0.15):\n",
    "    sat_df = pd.DataFrame(sat_df[['epoch', value_to_train_on]])\n",
    "    sat_df.columns = ['ds', 'y']\n",
    "    n_measurements = sat_df.shape[0]\n",
    "    train_size = int(round((1.0 - test_fraction) * n_measurements))\n",
    "    sat_train_df = sat_df[:train_size]\n",
    "    sat_test_df = sat_df[train_size:]\n",
    "    y_test = sat_test_df.y.values\n",
    "    sat_test_df = pd.DataFrame(sat_test_df[['ds']])\n",
    "    sat_test_df.reset_index(drop=True, inplace=True)\n",
    "    return sat_train_df, sat_test_df, y_test"
   ]
  },
  {
   "cell_type": "code",
   "execution_count": 4,
   "metadata": {},
   "outputs": [],
   "source": [
    "sat_train = get_sat_data(train_df, 0)\n",
    "train, test, y_test = prepare_sat_data_for_prophet(sat_train, 'x')"
   ]
  },
  {
   "cell_type": "code",
   "execution_count": 18,
   "metadata": {},
   "outputs": [
    {
     "name": "stderr",
     "output_type": "stream",
     "text": [
      "/usr/local/anaconda3/envs/python381/lib/python3.8/site-packages/fbprophet/forecaster.py:400: FutureWarning: The pandas.datetime class is deprecated and will be removed from pandas in a future version. Import from datetime module instead.\n",
      "  (dates - pd.datetime(1970, 1, 1))\n"
     ]
    }
   ],
   "source": [
    "model = Prophet(yearly_seasonality=True)\n",
    "model.fit(train)\n",
    "predictions = model.predict(test)"
   ]
  },
  {
   "cell_type": "code",
   "execution_count": 19,
   "metadata": {},
   "outputs": [
    {
     "data": {
      "text/html": [
       "<div>\n",
       "<style scoped>\n",
       "    .dataframe tbody tr th:only-of-type {\n",
       "        vertical-align: middle;\n",
       "    }\n",
       "\n",
       "    .dataframe tbody tr th {\n",
       "        vertical-align: top;\n",
       "    }\n",
       "\n",
       "    .dataframe thead th {\n",
       "        text-align: right;\n",
       "    }\n",
       "</style>\n",
       "<table border=\"1\" class=\"dataframe\">\n",
       "  <thead>\n",
       "    <tr style=\"text-align: right;\">\n",
       "      <th></th>\n",
       "      <th>ds</th>\n",
       "      <th>yhat</th>\n",
       "    </tr>\n",
       "  </thead>\n",
       "  <tbody>\n",
       "    <tr>\n",
       "      <th>0</th>\n",
       "      <td>2014-01-27 08:13:56.405</td>\n",
       "      <td>7800.009775</td>\n",
       "    </tr>\n",
       "    <tr>\n",
       "      <th>1</th>\n",
       "      <td>2014-01-27 09:00:39.405</td>\n",
       "      <td>7845.118512</td>\n",
       "    </tr>\n",
       "    <tr>\n",
       "      <th>2</th>\n",
       "      <td>2014-01-27 09:47:22.406</td>\n",
       "      <td>7923.939051</td>\n",
       "    </tr>\n",
       "    <tr>\n",
       "      <th>3</th>\n",
       "      <td>2014-01-27 10:34:05.406</td>\n",
       "      <td>8001.297980</td>\n",
       "    </tr>\n",
       "    <tr>\n",
       "      <th>4</th>\n",
       "      <td>2014-01-27 11:20:48.407</td>\n",
       "      <td>8027.860630</td>\n",
       "    </tr>\n",
       "    <tr>\n",
       "      <th>...</th>\n",
       "      <td>...</td>\n",
       "      <td>...</td>\n",
       "    </tr>\n",
       "    <tr>\n",
       "      <th>139</th>\n",
       "      <td>2014-01-31 20:27:33.474</td>\n",
       "      <td>10867.381892</td>\n",
       "    </tr>\n",
       "    <tr>\n",
       "      <th>140</th>\n",
       "      <td>2014-01-31 21:14:16.474</td>\n",
       "      <td>10972.995961</td>\n",
       "    </tr>\n",
       "    <tr>\n",
       "      <th>141</th>\n",
       "      <td>2014-01-31 22:00:59.475</td>\n",
       "      <td>11112.826532</td>\n",
       "    </tr>\n",
       "    <tr>\n",
       "      <th>142</th>\n",
       "      <td>2014-01-31 22:47:42.475</td>\n",
       "      <td>11253.599072</td>\n",
       "    </tr>\n",
       "    <tr>\n",
       "      <th>143</th>\n",
       "      <td>2014-01-31 23:34:25.476</td>\n",
       "      <td>11364.863085</td>\n",
       "    </tr>\n",
       "  </tbody>\n",
       "</table>\n",
       "<p>144 rows × 2 columns</p>\n",
       "</div>"
      ],
      "text/plain": [
       "                         ds          yhat\n",
       "0   2014-01-27 08:13:56.405   7800.009775\n",
       "1   2014-01-27 09:00:39.405   7845.118512\n",
       "2   2014-01-27 09:47:22.406   7923.939051\n",
       "3   2014-01-27 10:34:05.406   8001.297980\n",
       "4   2014-01-27 11:20:48.407   8027.860630\n",
       "..                      ...           ...\n",
       "139 2014-01-31 20:27:33.474  10867.381892\n",
       "140 2014-01-31 21:14:16.474  10972.995961\n",
       "141 2014-01-31 22:00:59.475  11112.826532\n",
       "142 2014-01-31 22:47:42.475  11253.599072\n",
       "143 2014-01-31 23:34:25.476  11364.863085\n",
       "\n",
       "[144 rows x 2 columns]"
      ]
     },
     "execution_count": 19,
     "metadata": {},
     "output_type": "execute_result"
    }
   ],
   "source": [
    "predictions[['ds', 'yhat']]"
   ]
  },
  {
   "cell_type": "code",
   "execution_count": 23,
   "metadata": {},
   "outputs": [],
   "source": [
    "x = sat_train.x.values\n",
    "x_sim = sat_train.x_sim.values\n",
    "x_diff = x - x_sim"
   ]
  },
  {
   "cell_type": "code",
   "execution_count": 28,
   "metadata": {},
   "outputs": [
    {
     "data": {
      "text/plain": [
       "<matplotlib.collections.PathCollection at 0x121dcfa00>"
      ]
     },
     "execution_count": 28,
     "metadata": {},
     "output_type": "execute_result"
    },
    {
     "data": {
      "image/png": "[encoded data removed]",
      "text/plain": [
       "<Figure size 432x288 with 1 Axes>"
      ]
     },
     "metadata": {
      "needs_background": "light"
     },
     "output_type": "display_data"
    }
   ],
   "source": [
    "plt.scatter(x_diff[:-1], x_diff[1:], s=0.5)"
   ]
  },
  {
   "cell_type": "code",
   "execution_count": 35,
   "metadata": {},
   "outputs": [],
   "source": [
    "import statsmodels.tsa.stattools as stat"
   ]
  },
  {
   "cell_type": "code",
   "execution_count": 37,
   "metadata": {},
   "outputs": [
    {
     "data": {
      "text/plain": [
       "[<matplotlib.lines.Line2D at 0x12512e9a0>]"
      ]
     },
     "execution_count": 37,
     "metadata": {},
     "output_type": "execute_result"
    },
    {
     "data": {
      "image/png": "[encoded data removed]",
      "text/plain": [
       "<Figure size 432x288 with 1 Axes>"
      ]
     },
     "metadata": {
      "needs_background": "light"
     },
     "output_type": "display_data"
    }
   ],
   "source": [
    "plt.plot(stat.acf(x_diff, fft=False))"
   ]
  },
  {
   "cell_type": "code",
   "execution_count": 45,
   "metadata": {},
   "outputs": [
    {
     "data": {
      "text/plain": [
       "Timedelta('0 days 20:14:38.013000')"
      ]
     },
     "execution_count": 45,
     "metadata": {},
     "output_type": "execute_result"
    }
   ],
   "source": [
    "result = pd.Timedelta(0)\n",
    "for i in range(1, 27):\n",
    "    result += sat_train.epoch[i] - sat_train.epoch[i - 1]\n",
    "result"
   ]
  },
  {
   "cell_type": "code",
   "execution_count": 76,
   "metadata": {},
   "outputs": [],
   "source": [
    "def calc_distances(sat_train, variables, origin_id):\n",
    "    points = sat_train[variables].values\n",
    "    origin = points[origin_id]\n",
    "    distances = points - origin\n",
    "    return np.sqrt(np.sum(distances * distances, axis=1))"
   ]
  },
  {
   "cell_type": "code",
   "execution_count": 97,
   "metadata": {},
   "outputs": [],
   "source": [
    "ORIGIN_ID = 1\n",
    "distances_sim = calc_distances(sat_train, ['x_sim', 'y_sim', 'z_sim'], ORIGIN_ID)\n",
    "distances = calc_distances(sat_train, ['x', 'y', 'z'], ORIGIN_ID)"
   ]
  },
  {
   "cell_type": "code",
   "execution_count": 81,
   "metadata": {},
   "outputs": [
    {
     "data": {
      "text/plain": [
       "[<matplotlib.lines.Line2D at 0x125c5de20>]"
      ]
     },
     "execution_count": 81,
     "metadata": {},
     "output_type": "execute_result"
    },
    {
     "data": {
      "image/png": "[encoded data removed]",
      "text/plain": [
       "<Figure size 432x288 with 1 Axes>"
      ]
     },
     "metadata": {
      "needs_background": "light"
     },
     "output_type": "display_data"
    }
   ],
   "source": [
    "plt.plot(distances_sim)"
   ]
  },
  {
   "cell_type": "code",
   "execution_count": 82,
   "metadata": {},
   "outputs": [
    {
     "data": {
      "text/plain": [
       "[<matplotlib.lines.Line2D at 0x1259837c0>]"
      ]
     },
     "execution_count": 82,
     "metadata": {},
     "output_type": "execute_result"
    },
    {
     "data": {
      "image/png": "[encoded data removed]",
      "text/plain": [
       "<Figure size 432x288 with 1 Axes>"
      ]
     },
     "metadata": {
      "needs_background": "light"
     },
     "output_type": "display_data"
    }
   ],
   "source": [
    "plt.plot(distances)"
   ]
  },
  {
   "cell_type": "code",
   "execution_count": 94,
   "metadata": {},
   "outputs": [
    {
     "data": {
      "text/plain": [
       "array([   0.        ,   39.96889874,   79.6837863 ,  118.37955429,\n",
       "        156.11342103,  192.85747237,  228.56825118,  264.17529292,\n",
       "        299.63233706,  335.66534278,  372.23495576,  409.616655  ,\n",
       "        447.70293548,  486.5765916 ,  526.15055591,  565.93014088,\n",
       "        606.34478603,  646.71955294,  687.34874123,  727.89216388,\n",
       "        768.22631668,  808.3713113 ,  848.19972438,  887.7922287 ,\n",
       "        926.73885667,  965.55238079, 1003.71896052, 1041.69414068,\n",
       "       1079.38116465, 1116.70651775, 1154.14822187, 1191.63332773,\n",
       "       1229.59575054, 1267.84148141, 1306.82303114, 1346.02816743,\n",
       "       1385.49285448, 1424.66049002, 1462.75456788, 1499.92748085])"
      ]
     },
     "execution_count": 94,
     "metadata": {},
     "output_type": "execute_result"
    }
   ],
   "source": [
    "a = distances[distances < 10000]\n",
    "a"
   ]
  },
  {
   "cell_type": "code",
   "execution_count": 96,
   "metadata": {},
   "outputs": [
    {
     "data": {
      "text/plain": [
       "array([ 9.47004692,  9.1894442 ,  8.78550841,  8.57699852,  8.58375698,\n",
       "        8.58879179,  8.97145736,  9.19481311,  9.63673739,  9.87973126,\n",
       "       10.16494316, 10.30656661, 10.37115704, 10.46451059, 10.28383588,\n",
       "       10.34358864, 10.1290377 , 10.10795745,  9.987413  ,  9.8996676 ,\n",
       "        9.87455195,  9.79375913,  9.88723722,  9.76929845,  9.94586715,\n",
       "        9.90173934, 10.0456729 , 10.16196195, 10.21803399, 10.42924776,\n",
       "       10.48201502, 10.70232994, 10.65091491, 10.74057425, 10.52443971,\n",
       "       10.29622426,  9.9874704 ,  9.50173413,  9.31731482])"
      ]
     },
     "execution_count": 96,
     "metadata": {},
     "output_type": "execute_result"
    }
   ],
   "source": [
    "x = sat_train.x.values[distances < 10000]\n",
    "x[1:] - x[:-1]"
   ]
  },
  {
   "cell_type": "code",
   "execution_count": 98,
   "metadata": {},
   "outputs": [
    {
     "data": {
      "text/plain": [
       "array([2.07643056, 1.75291998, 1.40349764, 1.23331531, 1.32276329,\n",
       "       1.42669824, 1.83547543, 2.11159244, 2.53329611, 2.77779238,\n",
       "       3.02201759, 3.14766211, 3.16063431, 3.21757923, 3.03152895,\n",
       "       3.02412596, 2.81054211, 2.73159386, 2.59511178, 2.4823247 ,\n",
       "       2.44123935, 2.34546766, 2.43139696, 2.35528931, 2.52487963,\n",
       "       2.55812082, 2.72707372, 2.91308806, 3.04459999, 3.29852117,\n",
       "       3.39648748, 3.61171004, 3.5614056 , 3.56839677, 3.31114504,\n",
       "       2.98923102, 2.64803662, 2.19709189, 2.05045845])"
      ]
     },
     "execution_count": 98,
     "metadata": {},
     "output_type": "execute_result"
    }
   ],
   "source": [
    "x = sat_train.x.values[distances < 10000]\n",
    "x[1:] - x[:-1]"
   ]
  },
  {
   "cell_type": "code",
   "execution_count": 101,
   "metadata": {},
   "outputs": [
    {
     "data": {
      "text/plain": [
       "array([ -8855.8238626 , -10567.67238391, -10578.68404349])"
      ]
     },
     "execution_count": 101,
     "metadata": {},
     "output_type": "execute_result"
    }
   ],
   "source": [
    "sat_train.x.values[:3]"
   ]
  },
  {
   "cell_type": "code",
   "execution_count": 102,
   "metadata": {},
   "outputs": [
    {
     "data": {
      "text/plain": [
       "array([-0.90830256, -0.30259012,  0.27743545])"
      ]
     },
     "execution_count": 102,
     "metadata": {},
     "output_type": "execute_result"
    }
   ],
   "source": [
    "sat_train.Vx.values[:3]"
   ]
  },
  {
   "cell_type": "code",
   "execution_count": 103,
   "metadata": {},
   "outputs": [
    {
     "data": {
      "text/plain": [
       "0   2014-01-01 00:00:00.000\n",
       "1   2014-01-01 00:46:43.000\n",
       "2   2014-01-01 01:33:26.001\n",
       "Name: epoch, dtype: datetime64[ns]"
      ]
     },
     "execution_count": 103,
     "metadata": {},
     "output_type": "execute_result"
    }
   ],
   "source": [
    "sat_train.epoch[:3]"
   ]
  },
  {
   "cell_type": "code",
   "execution_count": 106,
   "metadata": {},
   "outputs": [
    {
     "data": {
      "text/plain": [
       "-10551.98138496"
      ]
     },
     "execution_count": 106,
     "metadata": {},
     "output_type": "execute_result"
    }
   ],
   "source": [
    "(1400 * -0.90830256 + 1403 * -0.30259012) + -8855.8238626"
   ]
  },
  {
   "cell_type": "code",
   "execution_count": 92,
   "metadata": {},
   "outputs": [
    {
     "data": {
      "text/plain": [
       "array([  0.        ,   2.06955011,   4.36278554,   7.00828123,\n",
       "        10.09415631,  13.65368972,  17.64412297,  21.9398598 ,\n",
       "        26.34748478,  30.63902412,  34.59318669,  38.03044995,\n",
       "        40.83642745,  42.97270523,  44.47355777,  45.43339685,\n",
       "        45.99022147,  46.3058139 ,  46.54693228,  46.87079905,\n",
       "        47.41378704,  48.28542951,  49.56837839,  51.31979985,\n",
       "        53.57221071,  56.33202684,  59.57282655,  63.2269491 ,\n",
       "        67.18163176,  71.28263255,  75.34974945,  79.20501023,\n",
       "        82.7063713 ,  85.78030615,  88.44538202,  90.81632794,\n",
       "        93.0859442 ,  95.48827838,  98.24901182, 101.53674401])"
      ]
     },
     "execution_count": 92,
     "metadata": {},
     "output_type": "execute_result"
    }
   ],
   "source": [
    "b = distances_sim[distances_sim < 10000]\n",
    "b"
   ]
  }
 ],
 "metadata": {
  "kernelspec": {
   "display_name": "Python 3",
   "language": "python",
   "name": "python3"
  },
  "language_info": {
   "codemirror_mode": {
    "name": "ipython",
    "version": 3
   },
   "file_extension": ".py",
   "mimetype": "text/x-python",
   "name": "python",
   "nbconvert_exporter": "python",
   "pygments_lexer": "ipython3",
   "version": "3.8.1"
  }
 },
 "nbformat": 4,
 "nbformat_minor": 2
}
